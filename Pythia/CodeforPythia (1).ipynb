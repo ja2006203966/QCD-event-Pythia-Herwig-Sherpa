{
 "cells": [
  {
   "cell_type": "code",
   "execution_count": 2,
   "metadata": {},
   "outputs": [],
   "source": [
    "## for pararrel computation\n",
    "def parral(actype='gg', n = 1, path = '/home/ja2006203966/pythia8244/examples/mymain.cc' ):\n",
    "    import sys,os\n",
    "    import time\n",
    "    prgg, prqq = 'pythia.readString(\"WeakBosonAndParton:qqbar2gmZg = on\");\\n', 'pythia.readString(\"WeakBosonAndParton:qg2gmZq = on\");\\n'\n",
    "    os.system(\"cd /home/ja2006203966/pythia8244/examples\")\n",
    "    for i in range(n):\n",
    "        opgg = '   myfile.open (\"/home/ja2006203966/event/Pythia/myeventsgg__'+str(i)+'.txt\"); \\n'\n",
    "        opqq = '   myfile.open (\"/home/ja2006203966/event/Pythia/myeventsqq__'+str(i)+'.txt\"); \\n'\n",
    "        \n",
    "        if actype == 'gg':\n",
    "            op = opgg\n",
    "            pr = prgg\n",
    "        if actype == 'qq':\n",
    "            op = opqq\n",
    "            pr = prqq\n",
    "        f=open(path,'r')\n",
    "        flist=f.readlines()    \n",
    "        flist[78] = pr\n",
    "        flist[88] = op ## N-1 clumn\n",
    "        f.close()\n",
    "        f=open(path,'w')\n",
    "        f.writelines(flist)\n",
    "        f.close()\n",
    "        os.system(\"make ./mymain -j 40\")\n",
    "#         time.sleep(30)\n",
    "        os.system(\"nohup /home/ja2006203966/pythia8244/examples/mymain > /home/ja2006203966/event/Pythia/event\"+str(i)+\".out 2>&1 &\")"
   ]
  },
  {
   "cell_type": "code",
   "execution_count": 3,
   "metadata": {},
   "outputs": [],
   "source": [
    "## for pararrel computation\n",
    "def parral(actype='gg', n = 1, path = '/home/ja2006203966/pythia8244/examples/mymain.cc' ):\n",
    "    import sys,os\n",
    "    import time\n",
    "    prgg, prqq = \"\"WeakBosonAndParton:qqbar2gmZg = on\", \"WeakBosonAndParton:qg2gmZq = on\"\n",
    "    os.system(\"cd /home/ja2006203966/pythia8244/examples\")\n",
    "    for i in range(n):\n",
    "        opgg = \"/home/ja2006203966/event/Pythia/myeventsgg__\"+str(i)+\".txt\"\n",
    "        opqq = \"/home/ja2006203966/event/Pythia/myeventsqq__\"+str(i)+\".txt\"\n",
    "        \n",
    "        if actype == 'gg':\n",
    "            op = opgg\n",
    "            pr = prgg\n",
    "        if actype == 'qq':\n",
    "            op = opqq\n",
    "            pr = prqq\n",
    "       \n",
    "        os.system(\"nohup /home/ja2006203966/pythia8244/examples/mymain \"+pr+\" \"+op+\" > /home/ja2006203966/event/Pythia/event\"+str(i)+\".out 2>&1 &\")"
   ]
  },
  {
   "cell_type": "code",
   "execution_count": 4,
   "metadata": {},
   "outputs": [],
   "source": [
    "parral(actype = 'qq',n=3)"
   ]
  },
  {
   "cell_type": "code",
   "execution_count": 21,
   "metadata": {},
   "outputs": [
    {
     "data": {
      "text/plain": [
       "'   myfile.open (\"/home/ja2006203966/event/Pythia/myeventsgg__0.txt\")'"
      ]
     },
     "execution_count": 21,
     "metadata": {},
     "output_type": "execute_result"
    }
   ],
   "source": []
  },
  {
   "cell_type": "code",
   "execution_count": null,
   "metadata": {},
   "outputs": [],
   "source": []
  }
 ],
 "metadata": {
  "kernelspec": {
   "display_name": "Python 3",
   "language": "python",
   "name": "python3"
  },
  "language_info": {
   "codemirror_mode": {
    "name": "ipython",
    "version": 3
   },
   "file_extension": ".py",
   "mimetype": "text/x-python",
   "name": "python",
   "nbconvert_exporter": "python",
   "pygments_lexer": "ipython3",
   "version": "3.6.10"
  }
 },
 "nbformat": 4,
 "nbformat_minor": 4
}
